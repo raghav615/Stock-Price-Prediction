{
 "cells": [
  {
   "cell_type": "markdown",
   "metadata": {},
   "source": [
    "# SETUP"
   ]
  },
  {
   "cell_type": "code",
   "execution_count": 2,
   "metadata": {},
   "outputs": [],
   "source": [
    "apikey = 'PosYHYb1FGi5RwHDPiCpkCwbNNxXiDdDi5X9WnOqaPKZeDdILrmAz0xhNIPAOij6'\n",
    "secret= 'iIE0c4dnvtYe8qIps2hbt4kHgYBIPvCD18s8Iyt0izvskJ6tBomt8UOWjafY5Tes'\n",
    "\n"
   ]
  },
  {
   "cell_type": "code",
   "execution_count": 15,
   "metadata": {},
   "outputs": [
    {
     "name": "stdout",
     "output_type": "stream",
     "text": [
      "Requirement already satisfied: yfinance in /opt/anaconda3/lib/python3.12/site-packages (0.2.53)\n",
      "Requirement already satisfied: requests in /opt/anaconda3/lib/python3.12/site-packages (2.32.3)\n",
      "Requirement already satisfied: pandas>=1.3.0 in /opt/anaconda3/lib/python3.12/site-packages (from yfinance) (2.2.3)\n",
      "Requirement already satisfied: numpy>=1.16.5 in /opt/anaconda3/lib/python3.12/site-packages (from yfinance) (1.26.4)\n",
      "Requirement already satisfied: multitasking>=0.0.7 in /opt/anaconda3/lib/python3.12/site-packages (from yfinance) (0.0.11)\n",
      "Requirement already satisfied: platformdirs>=2.0.0 in /opt/anaconda3/lib/python3.12/site-packages (from yfinance) (3.10.0)\n",
      "Requirement already satisfied: pytz>=2022.5 in /opt/anaconda3/lib/python3.12/site-packages (from yfinance) (2025.1)\n",
      "Requirement already satisfied: frozendict>=2.3.4 in /opt/anaconda3/lib/python3.12/site-packages (from yfinance) (2.4.2)\n",
      "Requirement already satisfied: peewee>=3.16.2 in /opt/anaconda3/lib/python3.12/site-packages (from yfinance) (3.17.9)\n",
      "Requirement already satisfied: beautifulsoup4>=4.11.1 in /opt/anaconda3/lib/python3.12/site-packages (from yfinance) (4.12.3)\n",
      "Requirement already satisfied: charset-normalizer<4,>=2 in /opt/anaconda3/lib/python3.12/site-packages (from requests) (3.3.2)\n",
      "Requirement already satisfied: idna<4,>=2.5 in /opt/anaconda3/lib/python3.12/site-packages (from requests) (3.7)\n",
      "Requirement already satisfied: urllib3<3,>=1.21.1 in /opt/anaconda3/lib/python3.12/site-packages (from requests) (2.2.3)\n",
      "Requirement already satisfied: certifi>=2017.4.17 in /opt/anaconda3/lib/python3.12/site-packages (from requests) (2024.8.30)\n",
      "Requirement already satisfied: soupsieve>1.2 in /opt/anaconda3/lib/python3.12/site-packages (from beautifulsoup4>=4.11.1->yfinance) (2.5)\n",
      "Requirement already satisfied: python-dateutil>=2.8.2 in /opt/anaconda3/lib/python3.12/site-packages (from pandas>=1.3.0->yfinance) (2.9.0.post0)\n",
      "Requirement already satisfied: tzdata>=2022.7 in /opt/anaconda3/lib/python3.12/site-packages (from pandas>=1.3.0->yfinance) (2023.3)\n",
      "Requirement already satisfied: six>=1.5 in /opt/anaconda3/lib/python3.12/site-packages (from python-dateutil>=2.8.2->pandas>=1.3.0->yfinance) (1.16.0)\n",
      "Note: you may need to restart the kernel to use updated packages.\n"
     ]
    }
   ],
   "source": [
    "%pip install yfinance  requests\n"
   ]
  },
  {
   "cell_type": "code",
   "execution_count": null,
   "metadata": {},
   "outputs": [
    {
     "name": "stdout",
     "output_type": "stream",
     "text": [
      "                                    Open           High            Low  \\\n",
      "Date                                                                     \n",
      "2025-01-17 00:00:00+00:00  100025.765625  105884.226562   99948.906250   \n",
      "2025-01-18 00:00:00+00:00  104124.953125  104913.203125  102226.617188   \n",
      "2025-01-19 00:00:00+00:00  104411.289062  106299.796875   99570.531250   \n",
      "2025-01-20 00:00:00+00:00  101083.750000  109114.882812   99471.359375   \n",
      "2025-01-21 00:00:00+00:00  102052.578125  107180.921875  100103.953125   \n",
      "2025-01-22 00:00:00+00:00  106136.382812  106294.343750  103360.265625   \n",
      "2025-01-23 00:00:00+00:00  103657.671875  106820.328125  101257.804688   \n",
      "2025-01-24 00:00:00+00:00  103965.671875  107098.546875  102772.125000   \n",
      "2025-01-25 00:00:00+00:00  104824.031250  105243.789062  104120.375000   \n",
      "2025-01-26 00:00:00+00:00  104713.210938  105438.648438  102507.710938   \n",
      "2025-01-27 00:00:00+00:00  102680.304688  103214.109375   97795.937500   \n",
      "2025-01-28 00:00:00+00:00  102095.414062  103730.820312  100238.187500   \n",
      "2025-01-29 00:00:00+00:00  101317.523438  104750.804688  101283.820312   \n",
      "2025-01-30 00:00:00+00:00  103709.335938  106418.765625  103321.648438   \n",
      "2025-01-31 00:00:00+00:00  104737.562500  106026.351562  101543.882812   \n",
      "2025-02-01 00:00:00+00:00  102402.796875  102755.726562  100297.710938   \n",
      "2025-02-02 00:00:00+00:00  100661.539062  101430.664062   96216.078125   \n",
      "2025-02-03 00:00:00+00:00   97681.101562  102514.171875   91242.890625   \n",
      "2025-02-04 00:00:00+00:00  101398.718750  101745.617188   96208.109375   \n",
      "2025-02-05 00:00:00+00:00   97878.007812   99113.210938   96174.828125   \n",
      "2025-02-06 00:00:00+00:00   96610.640625   99168.609375   95707.351562   \n",
      "2025-02-07 00:00:00+00:00   96581.320312  100154.140625   95653.882812   \n",
      "2025-02-08 00:00:00+00:00   96533.257812   96877.804688   95702.492188   \n",
      "2025-02-09 00:00:00+00:00   96481.312500   97325.281250   94745.257812   \n",
      "2025-02-10 00:00:00+00:00   96499.460938   98333.218750   95320.843750   \n",
      "2025-02-11 00:00:00+00:00   97438.132812   98492.898438   94875.039062   \n",
      "2025-02-12 00:00:00+00:00   95745.695312   98151.023438   94101.203125   \n",
      "2025-02-13 00:00:00+00:00   97888.750000   98111.085938   95269.710938   \n",
      "2025-02-14 00:00:00+00:00   96623.367188   98819.468750   96342.804688   \n",
      "2025-02-15 00:00:00+00:00   97508.382812   97975.039062   97240.195312   \n",
      "2025-02-16 00:00:00+00:00   97580.492188   97725.593750   96060.976562   \n",
      "2025-02-17 00:00:00+00:00   96137.882812   96942.156250   95243.546875   \n",
      "\n",
      "                                   Close        Volume  Dividends  \\\n",
      "Date                                                                \n",
      "2025-01-17 00:00:00+00:00  104462.039062   71888972663        0.0   \n",
      "2025-01-18 00:00:00+00:00  104408.070312   50445655726        0.0   \n",
      "2025-01-19 00:00:00+00:00  101089.609375   76789928525        0.0   \n",
      "2025-01-20 00:00:00+00:00  102016.664062  126279678351        0.0   \n",
      "2025-01-21 00:00:00+00:00  106146.265625   88733878242        0.0   \n",
      "2025-01-22 00:00:00+00:00  103653.070312   53878181052        0.0   \n",
      "2025-01-23 00:00:00+00:00  103960.171875  104104515428        0.0   \n",
      "2025-01-24 00:00:00+00:00  104819.484375   52388229265        0.0   \n",
      "2025-01-25 00:00:00+00:00  104714.648438   23888996502        0.0   \n",
      "2025-01-26 00:00:00+00:00  102682.500000   22543395879        0.0   \n",
      "2025-01-27 00:00:00+00:00  102087.687500   89006608428        0.0   \n",
      "2025-01-28 00:00:00+00:00  101332.476562   47180685494        0.0   \n",
      "2025-01-29 00:00:00+00:00  103703.210938   47432049818        0.0   \n",
      "2025-01-30 00:00:00+00:00  104735.304688   41915744521        0.0   \n",
      "2025-01-31 00:00:00+00:00  102405.023438   45732764360        0.0   \n",
      "2025-02-01 00:00:00+00:00  100655.906250   27757944848        0.0   \n",
      "2025-02-02 00:00:00+00:00   97688.976562   63091816853        0.0   \n",
      "2025-02-03 00:00:00+00:00  101405.421875  115400897748        0.0   \n",
      "2025-02-04 00:00:00+00:00   97871.820312   73002130211        0.0   \n",
      "2025-02-05 00:00:00+00:00   96615.445312   49125911241        0.0   \n",
      "2025-02-06 00:00:00+00:00   96593.296875   45302471947        0.0   \n",
      "2025-02-07 00:00:00+00:00   96529.085938   55741290456        0.0   \n",
      "2025-02-08 00:00:00+00:00   96482.453125   22447526395        0.0   \n",
      "2025-02-09 00:00:00+00:00   96500.093750   27732901800        0.0   \n",
      "2025-02-10 00:00:00+00:00   97437.554688   40078962391        0.0   \n",
      "2025-02-11 00:00:00+00:00   95747.429688   37488783272        0.0   \n",
      "2025-02-12 00:00:00+00:00   97885.859375   49340445530        0.0   \n",
      "2025-02-13 00:00:00+00:00   96623.867188   37147280860        0.0   \n",
      "2025-02-14 00:00:00+00:00   97508.968750   32697987277        0.0   \n",
      "2025-02-15 00:00:00+00:00   97580.351562   17047266288        0.0   \n",
      "2025-02-16 00:00:00+00:00   96175.031250   16536755396        0.0   \n",
      "2025-02-17 00:00:00+00:00   95568.093750   28414857216        0.0   \n",
      "\n",
      "                           Stock Splits  \n",
      "Date                                     \n",
      "2025-01-17 00:00:00+00:00           0.0  \n",
      "2025-01-18 00:00:00+00:00           0.0  \n",
      "2025-01-19 00:00:00+00:00           0.0  \n",
      "2025-01-20 00:00:00+00:00           0.0  \n",
      "2025-01-21 00:00:00+00:00           0.0  \n",
      "2025-01-22 00:00:00+00:00           0.0  \n",
      "2025-01-23 00:00:00+00:00           0.0  \n",
      "2025-01-24 00:00:00+00:00           0.0  \n",
      "2025-01-25 00:00:00+00:00           0.0  \n",
      "2025-01-26 00:00:00+00:00           0.0  \n",
      "2025-01-27 00:00:00+00:00           0.0  \n",
      "2025-01-28 00:00:00+00:00           0.0  \n",
      "2025-01-29 00:00:00+00:00           0.0  \n",
      "2025-01-30 00:00:00+00:00           0.0  \n",
      "2025-01-31 00:00:00+00:00           0.0  \n",
      "2025-02-01 00:00:00+00:00           0.0  \n",
      "2025-02-02 00:00:00+00:00           0.0  \n",
      "2025-02-03 00:00:00+00:00           0.0  \n",
      "2025-02-04 00:00:00+00:00           0.0  \n",
      "2025-02-05 00:00:00+00:00           0.0  \n",
      "2025-02-06 00:00:00+00:00           0.0  \n",
      "2025-02-07 00:00:00+00:00           0.0  \n",
      "2025-02-08 00:00:00+00:00           0.0  \n",
      "2025-02-09 00:00:00+00:00           0.0  \n",
      "2025-02-10 00:00:00+00:00           0.0  \n",
      "2025-02-11 00:00:00+00:00           0.0  \n",
      "2025-02-12 00:00:00+00:00           0.0  \n",
      "2025-02-13 00:00:00+00:00           0.0  \n",
      "2025-02-14 00:00:00+00:00           0.0  \n",
      "2025-02-15 00:00:00+00:00           0.0  \n",
      "2025-02-16 00:00:00+00:00           0.0  \n",
      "2025-02-17 00:00:00+00:00           0.0  \n"
     ]
    }
   ],
   "source": [
    "import yfinance as yf\n",
    "import pandas as pd\n",
    "import requests"
   ]
  },
  {
   "cell_type": "markdown",
   "metadata": {},
   "source": [
    "# Bitcoin data"
   ]
  },
  {
   "cell_type": "code",
   "execution_count": 21,
   "metadata": {},
   "outputs": [
    {
     "name": "stdout",
     "output_type": "stream",
     "text": [
      "Bitcoin Price: $ 95541\n"
     ]
    }
   ],
   "source": [
    "\n",
    "\n",
    "def get_bitcoin_price():\n",
    "    url = \"https://api.coingecko.com/api/v3/simple/price?ids=bitcoin&vs_currencies=usd\"\n",
    "    response = requests.get(url)\n",
    "    data = response.json()\n",
    "    return data[\"bitcoin\"][\"usd\"]\n",
    "\n",
    "print(\"Bitcoin Price:\",\"$\",get_bitcoin_price())"
   ]
  },
  {
   "cell_type": "code",
   "execution_count": 34,
   "metadata": {},
   "outputs": [
    {
     "data": {
      "application/vnd.microsoft.datawrangler.viewer.v0+json": {
       "columns": [
        {
         "name": "Date",
         "rawType": "datetime64[ns, UTC]",
         "type": "unknown"
        },
        {
         "name": "Open",
         "rawType": "float64",
         "type": "float"
        },
        {
         "name": "High",
         "rawType": "float64",
         "type": "float"
        },
        {
         "name": "Low",
         "rawType": "float64",
         "type": "float"
        },
        {
         "name": "Close",
         "rawType": "float64",
         "type": "float"
        },
        {
         "name": "Volume",
         "rawType": "int64",
         "type": "integer"
        },
        {
         "name": "Dividends",
         "rawType": "float64",
         "type": "float"
        },
        {
         "name": "Stock Splits",
         "rawType": "float64",
         "type": "float"
        }
       ],
       "conversionMethod": "pd.DataFrame",
       "ref": "545b594d-a348-48ca-972a-233ef80a6415",
       "rows": [
        [
         "2014-09-17 00:00:00+00:00",
         "465.864013671875",
         "468.17401123046875",
         "452.4219970703125",
         "457.3340148925781",
         "21056800",
         "0.0",
         "0.0"
        ],
        [
         "2014-09-18 00:00:00+00:00",
         "456.8599853515625",
         "456.8599853515625",
         "413.10400390625",
         "424.44000244140625",
         "34483200",
         "0.0",
         "0.0"
        ],
        [
         "2014-09-19 00:00:00+00:00",
         "424.1029968261719",
         "427.8349914550781",
         "384.5320129394531",
         "394.7959899902344",
         "37919700",
         "0.0",
         "0.0"
        ],
        [
         "2014-09-20 00:00:00+00:00",
         "394.6730041503906",
         "423.2959899902344",
         "389.88299560546875",
         "408.90399169921875",
         "36863600",
         "0.0",
         "0.0"
        ],
        [
         "2014-09-21 00:00:00+00:00",
         "408.0849914550781",
         "412.4259948730469",
         "393.1809997558594",
         "398.8210144042969",
         "26580100",
         "0.0",
         "0.0"
        ]
       ],
       "shape": {
        "columns": 7,
        "rows": 5
       }
      },
      "text/html": [
       "<div>\n",
       "<style scoped>\n",
       "    .dataframe tbody tr th:only-of-type {\n",
       "        vertical-align: middle;\n",
       "    }\n",
       "\n",
       "    .dataframe tbody tr th {\n",
       "        vertical-align: top;\n",
       "    }\n",
       "\n",
       "    .dataframe thead th {\n",
       "        text-align: right;\n",
       "    }\n",
       "</style>\n",
       "<table border=\"1\" class=\"dataframe\">\n",
       "  <thead>\n",
       "    <tr style=\"text-align: right;\">\n",
       "      <th></th>\n",
       "      <th>Open</th>\n",
       "      <th>High</th>\n",
       "      <th>Low</th>\n",
       "      <th>Close</th>\n",
       "      <th>Volume</th>\n",
       "      <th>Dividends</th>\n",
       "      <th>Stock Splits</th>\n",
       "    </tr>\n",
       "    <tr>\n",
       "      <th>Date</th>\n",
       "      <th></th>\n",
       "      <th></th>\n",
       "      <th></th>\n",
       "      <th></th>\n",
       "      <th></th>\n",
       "      <th></th>\n",
       "      <th></th>\n",
       "    </tr>\n",
       "  </thead>\n",
       "  <tbody>\n",
       "    <tr>\n",
       "      <th>2014-09-17 00:00:00+00:00</th>\n",
       "      <td>465.864014</td>\n",
       "      <td>468.174011</td>\n",
       "      <td>452.421997</td>\n",
       "      <td>457.334015</td>\n",
       "      <td>21056800</td>\n",
       "      <td>0.0</td>\n",
       "      <td>0.0</td>\n",
       "    </tr>\n",
       "    <tr>\n",
       "      <th>2014-09-18 00:00:00+00:00</th>\n",
       "      <td>456.859985</td>\n",
       "      <td>456.859985</td>\n",
       "      <td>413.104004</td>\n",
       "      <td>424.440002</td>\n",
       "      <td>34483200</td>\n",
       "      <td>0.0</td>\n",
       "      <td>0.0</td>\n",
       "    </tr>\n",
       "    <tr>\n",
       "      <th>2014-09-19 00:00:00+00:00</th>\n",
       "      <td>424.102997</td>\n",
       "      <td>427.834991</td>\n",
       "      <td>384.532013</td>\n",
       "      <td>394.795990</td>\n",
       "      <td>37919700</td>\n",
       "      <td>0.0</td>\n",
       "      <td>0.0</td>\n",
       "    </tr>\n",
       "    <tr>\n",
       "      <th>2014-09-20 00:00:00+00:00</th>\n",
       "      <td>394.673004</td>\n",
       "      <td>423.295990</td>\n",
       "      <td>389.882996</td>\n",
       "      <td>408.903992</td>\n",
       "      <td>36863600</td>\n",
       "      <td>0.0</td>\n",
       "      <td>0.0</td>\n",
       "    </tr>\n",
       "    <tr>\n",
       "      <th>2014-09-21 00:00:00+00:00</th>\n",
       "      <td>408.084991</td>\n",
       "      <td>412.425995</td>\n",
       "      <td>393.181000</td>\n",
       "      <td>398.821014</td>\n",
       "      <td>26580100</td>\n",
       "      <td>0.0</td>\n",
       "      <td>0.0</td>\n",
       "    </tr>\n",
       "  </tbody>\n",
       "</table>\n",
       "</div>"
      ],
      "text/plain": [
       "                                 Open        High         Low       Close  \\\n",
       "Date                                                                        \n",
       "2014-09-17 00:00:00+00:00  465.864014  468.174011  452.421997  457.334015   \n",
       "2014-09-18 00:00:00+00:00  456.859985  456.859985  413.104004  424.440002   \n",
       "2014-09-19 00:00:00+00:00  424.102997  427.834991  384.532013  394.795990   \n",
       "2014-09-20 00:00:00+00:00  394.673004  423.295990  389.882996  408.903992   \n",
       "2014-09-21 00:00:00+00:00  408.084991  412.425995  393.181000  398.821014   \n",
       "\n",
       "                             Volume  Dividends  Stock Splits  \n",
       "Date                                                          \n",
       "2014-09-17 00:00:00+00:00  21056800        0.0           0.0  \n",
       "2014-09-18 00:00:00+00:00  34483200        0.0           0.0  \n",
       "2014-09-19 00:00:00+00:00  37919700        0.0           0.0  \n",
       "2014-09-20 00:00:00+00:00  36863600        0.0           0.0  \n",
       "2014-09-21 00:00:00+00:00  26580100        0.0           0.0  "
      ]
     },
     "execution_count": 34,
     "metadata": {},
     "output_type": "execute_result"
    }
   ],
   "source": [
    "# Fetch Bitcoin historical data from Yahoo Finance\n",
    "btc = yf.Ticker(\"BTC-USD\")\n",
    "hist = btc.history(period=\"max\")  # Get last 1 month of data\n",
    "\n",
    "# Convert to Pandas DataFrame\n",
    "df = pd.DataFrame(hist)\n",
    "df.head()"
   ]
  },
  {
   "cell_type": "markdown",
   "metadata": {},
   "source": [
    "# GET TICKETS"
   ]
  },
  {
   "cell_type": "markdown",
   "metadata": {},
   "source": [
    "# GET DEPTH"
   ]
  },
  {
   "cell_type": "markdown",
   "metadata": {},
   "source": [
    "# GET HISTORICAL DATA"
   ]
  },
  {
   "cell_type": "markdown",
   "metadata": {},
   "source": [
    "# PREPROCESS HISTORICAL DATA"
   ]
  },
  {
   "cell_type": "markdown",
   "metadata": {},
   "source": [
    "# VIZ"
   ]
  }
 ],
 "metadata": {
  "kernelspec": {
   "display_name": "base",
   "language": "python",
   "name": "python3"
  },
  "language_info": {
   "codemirror_mode": {
    "name": "ipython",
    "version": 3
   },
   "file_extension": ".py",
   "mimetype": "text/x-python",
   "name": "python",
   "nbconvert_exporter": "python",
   "pygments_lexer": "ipython3",
   "version": "3.12.4"
  }
 },
 "nbformat": 4,
 "nbformat_minor": 2
}
